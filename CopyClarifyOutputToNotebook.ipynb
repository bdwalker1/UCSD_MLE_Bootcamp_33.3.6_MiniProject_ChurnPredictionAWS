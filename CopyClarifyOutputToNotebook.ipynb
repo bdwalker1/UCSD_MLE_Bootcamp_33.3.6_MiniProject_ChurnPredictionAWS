{
 "cells": [
  {
   "cell_type": "markdown",
   "id": "90371226-ffb0-42e5-af4f-387c0eed2926",
   "metadata": {},
   "source": [
    "### Copy the Clarify Outputs Created by Pipeline to the Notebook for Review"
   ]
  },
  {
   "cell_type": "code",
   "execution_count": 23,
   "id": "3fb6409c-d4d7-4ea8-b4c7-5504f37de6bd",
   "metadata": {
    "tags": []
   },
   "outputs": [
    {
     "name": "stdout",
     "output_type": "stream",
     "text": [
      "/home/ec2-user/SageMaker\n",
      "clarify-output/bias/analysis.json ==> bias/analysis.json\n",
      "bias analysis.json\n",
      "clarify-output/bias/analysis_config.json ==> bias/analysis_config.json\n",
      "bias analysis_config.json\n",
      "clarify-output/bias/explanations_shap/baseline.csv ==> bias/explanations_shap/baseline.csv\n",
      "bias/explanations_shap baseline.csv\n",
      "clarify-output/bias/explanations_shap/out.csv ==> bias/explanations_shap/out.csv\n",
      "bias/explanations_shap out.csv\n",
      "clarify-output/bias/report.html ==> bias/report.html\n",
      "bias report.html\n",
      "clarify-output/bias/report.ipynb ==> bias/report.ipynb\n",
      "bias report.ipynb\n",
      "clarify-output/bias/report.pdf ==> bias/report.pdf\n",
      "bias report.pdf\n",
      "/home/ec2-user/SageMaker\n"
     ]
    }
   ],
   "source": [
    "import os, boto3\n",
    "home_path = \"/home/ec2-user/SageMaker/\"\n",
    "os.chdir(home_path)\n",
    "\n",
    "save_path = os.getcwd()\n",
    "print(save_path)\n",
    "os.chdir(\"clarify\")\n",
    "\n",
    "bucket = \"mini-project-churn-prediction\"\n",
    "s3cli = boto3.resource('s3')\n",
    "\n",
    "search_term = \"clarify-output/\"\n",
    "s3bucket = s3cli.Bucket(bucket)\n",
    "\n",
    "for file in s3bucket.objects.all():\n",
    "    if file.key.startswith(search_term):        \n",
    "        print(f\"{file.key} ==> {file.key.replace(search_term,'')}\")\n",
    "        local_path = '/'.join(file.key.replace(search_term,'').split('/')[0:-1])\n",
    "        filename = file.key.replace(search_term,'').split('/')[-1]\n",
    "        if not os.path.exists(local_path):\n",
    "            print(\"Making folder\")\n",
    "            os.mkdir(local_path)\n",
    "        print(f\"{local_path} {filename}\")\n",
    "        s3bucket.download_file( file.key, file.key.replace(search_term,\"\") )\n",
    "   \n",
    "# s3cli.Bucket(bucket).upload_file(\"data/batch.csv\",\"data/batch/batch.csv\")\n",
    "# s3cli.Bucket(bucket).upload_file(\"data/baseline.csv\",\"input/baseline/baseline.csv\")\n",
    "\n",
    "os.chdir(save_path)\n",
    "print(os.getcwd())"
   ]
  },
  {
   "cell_type": "code",
   "execution_count": null,
   "id": "a0a61cee-c024-4151-958e-bb9fa04aaed7",
   "metadata": {},
   "outputs": [],
   "source": []
  }
 ],
 "metadata": {
  "kernelspec": {
   "display_name": "conda_tensorflow2_p310",
   "language": "python",
   "name": "conda_tensorflow2_p310"
  },
  "language_info": {
   "codemirror_mode": {
    "name": "ipython",
    "version": 3
   },
   "file_extension": ".py",
   "mimetype": "text/x-python",
   "name": "python",
   "nbconvert_exporter": "python",
   "pygments_lexer": "ipython3",
   "version": "3.10.15"
  }
 },
 "nbformat": 4,
 "nbformat_minor": 5
}
